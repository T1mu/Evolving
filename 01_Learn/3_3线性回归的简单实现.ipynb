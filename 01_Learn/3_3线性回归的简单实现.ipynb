{
 "cells": [
  {
   "cell_type": "markdown",
   "metadata": {},
   "source": [
    "# 生成数据集"
   ]
  },
  {
   "cell_type": "code",
   "execution_count": 55,
   "metadata": {},
   "outputs": [],
   "source": [
    "import numpy as np\n",
    "import torch\n",
    "num_inputs=2\n",
    "num_examples=1000\n",
    "true_w=[2,-1]\n",
    "true_b=8\n",
    "features=torch.tensor(np.random.normal(\n",
    "    0, 1, (num_examples, num_inputs)),dtype=torch.float)\n",
    "labels=true_w[0]*features[:, 0]+true_w[1]*features[:, 1]+ true_b\n",
    "labels +=torch.tensor(np.random.normal(0, 0.01, size=labels.size()),dtype=torch.float)"
   ]
  },
  {
   "cell_type": "markdown",
   "metadata": {},
   "source": [
    "# 读取数据"
   ]
  },
  {
   "cell_type": "code",
   "execution_count": 62,
   "metadata": {},
   "outputs": [],
   "source": [
    "import torch.utils.data as Data\n",
    "batch_size = 10\n",
    "dataset = Data.TensorDataset(features,labels)\n",
    "r\"\"\"Dataset wrapping tensors.\n",
    "    Each sample will be retrieved by indexing tensors along the first dimension.\n",
    "    Arguments:\n",
    "        *tensors (Tensor): tensors that have the same size of the first dimension.\n",
    "    \"\"\"\n",
    "data_iter = Data.DataLoader(dataset, batch_size, shuffle=True, num_workers=2)"
   ]
  },
  {
   "cell_type": "markdown",
   "metadata": {},
   "source": [
    "# 定义模型"
   ]
  },
  {
   "cell_type": "code",
   "execution_count": 57,
   "metadata": {},
   "outputs": [],
   "source": [
    "from torch import nn\n",
    "# class LinearNet(nn.Module):\n",
    "#     def __init__(self,n_feature):\n",
    "#         super(LinearNet,self).__init__()\n",
    "#         self.linear=nn.Linear(n_feature, 1)\n",
    "#     def forward(self,x):\n",
    "#         y = self.linear(x)\n",
    "#         return y\n",
    "net = nn.Sequential(\n",
    "    nn.Linear(num_inputs, 1)\n",
    "    # 此处还可以传入其它层\n",
    "    )"
   ]
  },
  {
   "cell_type": "code",
   "execution_count": 69,
   "metadata": {},
   "outputs": [
    {
     "name": "stdout",
     "output_type": "stream",
     "text": [
      "Parameter containing:\n",
      "tensor([[ 1.9999, -1.0004]], requires_grad=True)\n",
      "Parameter containing:\n",
      "tensor([8.0001], requires_grad=True)\n",
      "Parameter containing:\n",
      "tensor([0.5130], requires_grad=True)\n",
      "Parameter containing:\n",
      "tensor([0.5130], requires_grad=True)\n"
     ]
    }
   ],
   "source": [
    "for patam in net.parameters():\n",
    "    print(param)"
   ]
  },
  {
   "cell_type": "markdown",
   "metadata": {},
   "source": [
    "# 初始化模型参数"
   ]
  },
  {
   "cell_type": "code",
   "execution_count": 64,
   "metadata": {
    "collapsed": true
   },
   "outputs": [
    {
     "data": {
      "text/plain": [
       "Parameter containing:\n",
       "tensor([0.], requires_grad=True)"
      ]
     },
     "execution_count": 64,
     "metadata": {},
     "output_type": "execute_result"
    }
   ],
   "source": [
    "from torch.nn import init\n",
    "init.normal_(net[0].weight, mean=0, std=0.01)\n",
    "init.constant_(net[0].bias, val=0)"
   ]
  },
  {
   "cell_type": "markdown",
   "metadata": {},
   "source": [
    "# 定义损失函数"
   ]
  },
  {
   "cell_type": "code",
   "execution_count": 65,
   "metadata": {},
   "outputs": [],
   "source": [
    "loss = nn.MSELoss()"
   ]
  },
  {
   "cell_type": "markdown",
   "metadata": {},
   "source": [
    "# 定义优化算法"
   ]
  },
  {
   "cell_type": "code",
   "execution_count": 74,
   "metadata": {},
   "outputs": [
    {
     "name": "stdout",
     "output_type": "stream",
     "text": [
      "ASGD (\n",
      "Parameter Group 0\n",
      "    alpha: 0.75\n",
      "    lambd: 0.0001\n",
      "    lr: 0.03\n",
      "    t0: 1000000.0\n",
      "    weight_decay: 0\n",
      ")\n"
     ]
    }
   ],
   "source": [
    "import torch.optim as optim\n",
    "\n",
    "optimizer = optim.ASGD(net.parameters(), lr=0.03)\n",
    "print(optimizer)"
   ]
  },
  {
   "cell_type": "markdown",
   "metadata": {},
   "source": [
    "# 训练模型"
   ]
  },
  {
   "cell_type": "code",
   "execution_count": 75,
   "metadata": {},
   "outputs": [
    {
     "name": "stdout",
     "output_type": "stream",
     "text": [
      "epoch 1, loss:0.000091\n",
      "epoch 2, loss:0.000087\n",
      "epoch 3, loss:0.000076\n",
      "epoch 4, loss:0.000038\n",
      "epoch 5, loss:0.000055\n",
      "epoch 6, loss:0.000094\n",
      "epoch 7, loss:0.000086\n",
      "epoch 8, loss:0.000135\n",
      "epoch 9, loss:0.000140\n",
      "epoch 10, loss:0.000265\n"
     ]
    }
   ],
   "source": [
    "num_epochs = 10\n",
    "for epoch in range(1, num_epochs + 1):\n",
    "    for X, y in data_iter:\n",
    "        output = net(X)\n",
    "        l = loss(output, y.view(-1,1))\n",
    "        optimizer.zero_grad()\n",
    "        l.backward()\n",
    "        optimizer.step()\n",
    "    print('epoch %d, loss:%f'% (epoch, l.item()))"
   ]
  },
  {
   "cell_type": "code",
   "execution_count": 81,
   "metadata": {},
   "outputs": [
    {
     "name": "stdout",
     "output_type": "stream",
     "text": [
      "Parameter containing:\n",
      "tensor([[ 1.9983, -1.0002]], requires_grad=True)\n",
      "Parameter containing:\n",
      "tensor([7.9992], requires_grad=True)\n"
     ]
    }
   ],
   "source": [
    "\n",
    "for param in net.parameters():\n",
    "    print(param)"
   ]
  },
  {
   "cell_type": "code",
   "execution_count": null,
   "metadata": {},
   "outputs": [],
   "source": []
  }
 ],
 "metadata": {
  "kernelspec": {
   "display_name": "Pytorch for Deeplearning",
   "language": "python",
   "name": "pytorch"
  },
  "language_info": {
   "codemirror_mode": {
    "name": "ipython",
    "version": 3
   },
   "file_extension": ".py",
   "mimetype": "text/x-python",
   "name": "python",
   "nbconvert_exporter": "python",
   "pygments_lexer": "ipython3",
   "version": "3.8.3"
  }
 },
 "nbformat": 4,
 "nbformat_minor": 2
}
