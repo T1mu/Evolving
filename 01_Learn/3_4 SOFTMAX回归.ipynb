{
 "cells": [
  {
   "cell_type": "markdown",
   "metadata": {},
   "source": [
    "# SOFTMAX回归\n",
    "前面介绍的线性回归模型适用于输出为连续值的情景。在另一类情景中，模型输出可以使一个像图像类别这样的离散值。对于这样的离散值预测问题，我们可以使用诸如softmax回归在内的分类模型。和线性回归不同，**softmax回归的输出单元从一个变成了多个,且引入了softmax运算使输出更适合离散值的预测和训练**。本节以softmax回归模型为例，介绍神经网络中的分类模型。"
   ]
  },
  {
   "cell_type": "markdown",
   "metadata": {},
   "source": [
    "## 分类问题\n",
    "图像的每个像素值都可以用一个标量来表示，我们将图像中的像素标记为x1,x2,x3,x4...。假设训练数据集中图像的真实标签为狗、猫和鸡，这些标签分别对应离散值y<sub>1</sub>=1,y<sub>2</sub>=2,y<sub>3</sub>=3..."
   ]
  },
  {
   "cell_type": "markdown",
   "metadata": {},
   "source": [
    "虽然我们仍然可以用回归模型来建模，并将预测值就近定点化到1、2和3这三个离散值之一，但这种连续值到离散值的转化通常会影响到分类质量。"
   ]
  },
  {
   "cell_type": "markdown",
   "metadata": {},
   "source": [
    "## SOFTMAX回归模型"
   ]
  },
  {
   "cell_type": "markdown",
   "metadata": {},
   "source": [
    "softmax回归跟线性回归一样将输入特征与权重做线性叠加。不同之处在于softmax回归输出个数等于标签里的类别数。因为一共有4种特征和3种输出动物类别，所以权重包含12个标量（带下标的w）、偏差包含3个标量（带下标的b），且对每个输入计算o1o2偶\n",
    "这三个输出：![softmax输出](softmax_输出.png)"
   ]
  },
  {
   "cell_type": "markdown",
   "metadata": {},
   "source": [
    "softmax运算符解决了以上两个问题。它通过下式将输出值变换成值正且和为1的概率分布：![softmax公式](softmax_公式.png)"
   ]
  },
  {
   "cell_type": "markdown",
   "metadata": {},
   "source": [
    "## 单样本分类的矢量计算表达式\n",
    "![单样本分类的矢量计算表达式](单样本分类的矢量计算表达式.png)"
   ]
  },
  {
   "cell_type": "markdown",
   "metadata": {},
   "source": [
    "## 交叉熵函数\n",
    "![交叉熵函数](交叉熵函数.png)"
   ]
  },
  {
   "cell_type": "code",
   "execution_count": null,
   "metadata": {},
   "outputs": [],
   "source": []
  }
 ],
 "metadata": {
  "kernelspec": {
   "display_name": "Pytorch for Deeplearning",
   "language": "python",
   "name": "pytorch"
  },
  "language_info": {
   "codemirror_mode": {
    "name": "ipython",
    "version": 3
   },
   "file_extension": ".py",
   "mimetype": "text/x-python",
   "name": "python",
   "nbconvert_exporter": "python",
   "pygments_lexer": "ipython3",
   "version": "3.8.3"
  }
 },
 "nbformat": 4,
 "nbformat_minor": 2
}
